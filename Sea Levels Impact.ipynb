{
 "cells": [
  {
   "cell_type": "code",
   "execution_count": 1,
   "metadata": {},
   "outputs": [],
   "source": [
    "import pandas as pd\n",
    "import numpy as np\n",
    "import matplotlib.pyplot as plt\n"
   ]
  },
  {
   "cell_type": "code",
   "execution_count": 2,
   "metadata": {},
   "outputs": [],
   "source": [
    "def read_excel_sheets(xls_path):\n",
    "    \"\"\"Read all sheets of an Excel workbook and return a single DataFrame\"\"\"\n",
    "    print(f'Loading {xls_path} into pandas')\n",
    "    xl = pd.ExcelFile(xls_path)\n",
    "    df = pd.DataFrame()\n",
    "    columns = None\n",
    "    for idx, name in enumerate(xl.sheet_names):\n",
    "        print(f'Reading sheet #{idx}: {name}')\n",
    "        sheet = xl.parse(name)\n",
    "        if idx == 0:\n",
    "            # Save column names from the first sheet to match for append\n",
    "            columns = sheet.columns\n",
    "        sheet.columns = columns\n",
    "        # Assume index of existing data frame when appended\n",
    "        df = df.append(sheet, ignore_index=True)\n",
    "    return df"
   ]
  },
  {
   "cell_type": "code",
   "execution_count": 25,
   "metadata": {},
   "outputs": [],
   "source": [
    "data = pd.read_csv(\"Data/sea-impacts.csv\")\n"
   ]
  },
  {
   "cell_type": "code",
   "execution_count": 26,
   "metadata": {},
   "outputs": [
    {
     "data": {
      "text/html": [
       "<div>\n",
       "<style scoped>\n",
       "    .dataframe tbody tr th:only-of-type {\n",
       "        vertical-align: middle;\n",
       "    }\n",
       "\n",
       "    .dataframe tbody tr th {\n",
       "        vertical-align: top;\n",
       "    }\n",
       "\n",
       "    .dataframe thead th {\n",
       "        text-align: right;\n",
       "    }\n",
       "</style>\n",
       "<table border=\"1\" class=\"dataframe\">\n",
       "  <thead>\n",
       "    <tr style=\"text-align: right;\">\n",
       "      <th></th>\n",
       "      <th>Country Code</th>\n",
       "      <th>Country Name</th>\n",
       "      <th>Total Area (Sq. km.)</th>\n",
       "      <th>1 meter</th>\n",
       "      <th>2 meter</th>\n",
       "      <th>3 meter</th>\n",
       "      <th>4 meter</th>\n",
       "      <th>5 meter</th>\n",
       "      <th>1 meter.1</th>\n",
       "      <th>2 meter.1</th>\n",
       "      <th>3 meter.1</th>\n",
       "      <th>4 meter.1</th>\n",
       "      <th>5 meter.1</th>\n",
       "    </tr>\n",
       "  </thead>\n",
       "  <tbody>\n",
       "    <tr>\n",
       "      <th>0</th>\n",
       "      <td>NaN</td>\n",
       "      <td>NaN</td>\n",
       "      <td>NaN</td>\n",
       "      <td>NaN</td>\n",
       "      <td>NaN</td>\n",
       "      <td>NaN</td>\n",
       "      <td>NaN</td>\n",
       "      <td>NaN</td>\n",
       "      <td>NaN</td>\n",
       "      <td>NaN</td>\n",
       "      <td>NaN</td>\n",
       "      <td>NaN</td>\n",
       "      <td>NaN</td>\n",
       "    </tr>\n",
       "    <tr>\n",
       "      <th>1</th>\n",
       "      <td>NaN</td>\n",
       "      <td>Global</td>\n",
       "      <td>47,70,864</td>\n",
       "      <td>97,497</td>\n",
       "      <td>1,50,403</td>\n",
       "      <td>2,17,177</td>\n",
       "      <td>2,96,901</td>\n",
       "      <td>3,64,625</td>\n",
       "      <td>2.04</td>\n",
       "      <td>3.15</td>\n",
       "      <td>4.55</td>\n",
       "      <td>6.22</td>\n",
       "      <td>7.64</td>\n",
       "    </tr>\n",
       "    <tr>\n",
       "      <th>2</th>\n",
       "      <td>NaN</td>\n",
       "      <td>NaN</td>\n",
       "      <td>NaN</td>\n",
       "      <td>NaN</td>\n",
       "      <td>NaN</td>\n",
       "      <td>NaN</td>\n",
       "      <td>NaN</td>\n",
       "      <td>NaN</td>\n",
       "      <td>NaN</td>\n",
       "      <td>NaN</td>\n",
       "      <td>NaN</td>\n",
       "      <td>NaN</td>\n",
       "      <td>NaN</td>\n",
       "    </tr>\n",
       "    <tr>\n",
       "      <th>3</th>\n",
       "      <td>NaN</td>\n",
       "      <td>Latin America / Caribbean</td>\n",
       "      <td>16,51,735</td>\n",
       "      <td>22,956</td>\n",
       "      <td>39,438</td>\n",
       "      <td>61,562</td>\n",
       "      <td>86,575</td>\n",
       "      <td>1,09,378</td>\n",
       "      <td>1.39</td>\n",
       "      <td>2.39</td>\n",
       "      <td>3.73</td>\n",
       "      <td>5.24</td>\n",
       "      <td>6.62</td>\n",
       "    </tr>\n",
       "    <tr>\n",
       "      <th>4</th>\n",
       "      <td>NaN</td>\n",
       "      <td>NaN</td>\n",
       "      <td>NaN</td>\n",
       "      <td>NaN</td>\n",
       "      <td>NaN</td>\n",
       "      <td>NaN</td>\n",
       "      <td>NaN</td>\n",
       "      <td>NaN</td>\n",
       "      <td>NaN</td>\n",
       "      <td>NaN</td>\n",
       "      <td>NaN</td>\n",
       "      <td>NaN</td>\n",
       "      <td>NaN</td>\n",
       "    </tr>\n",
       "  </tbody>\n",
       "</table>\n",
       "</div>"
      ],
      "text/plain": [
       "  Country Code               Country Name Total Area (Sq. km.) 1 meter  \\\n",
       "0          NaN                        NaN                  NaN     NaN   \n",
       "1          NaN                     Global            47,70,864  97,497   \n",
       "2          NaN                        NaN                  NaN     NaN   \n",
       "3          NaN  Latin America / Caribbean            16,51,735  22,956   \n",
       "4          NaN                        NaN                  NaN     NaN   \n",
       "\n",
       "    2 meter   3 meter   4 meter   5 meter  1 meter.1  2 meter.1  3 meter.1  \\\n",
       "0       NaN       NaN       NaN       NaN        NaN        NaN        NaN   \n",
       "1  1,50,403  2,17,177  2,96,901  3,64,625       2.04       3.15       4.55   \n",
       "2       NaN       NaN       NaN       NaN        NaN        NaN        NaN   \n",
       "3    39,438    61,562    86,575  1,09,378       1.39       2.39       3.73   \n",
       "4       NaN       NaN       NaN       NaN        NaN        NaN        NaN   \n",
       "\n",
       "   4 meter.1  5 meter.1  \n",
       "0        NaN        NaN  \n",
       "1       6.22       7.64  \n",
       "2        NaN        NaN  \n",
       "3       5.24       6.62  \n",
       "4        NaN        NaN  "
      ]
     },
     "execution_count": 26,
     "metadata": {},
     "output_type": "execute_result"
    }
   ],
   "source": [
    "data.dropna()\n",
    "data.head()"
   ]
  },
  {
   "cell_type": "code",
   "execution_count": 27,
   "metadata": {},
   "outputs": [
    {
     "name": "stdout",
     "output_type": "stream",
     "text": [
      "    Country Code               Country Name Total Area (Sq. km.) 1 meter  \\\n",
      "0            NaN                        NaN                  NaN     NaN   \n",
      "1            NaN                     Global            47,70,864  97,497   \n",
      "2            NaN                        NaN                  NaN     NaN   \n",
      "3            NaN  Latin America / Caribbean            16,51,735  22,956   \n",
      "4            NaN                        NaN                  NaN     NaN   \n",
      "..           ...                        ...                  ...     ...   \n",
      "100          NaN                        NaN                  NaN     NaN   \n",
      "101          BGD                 Bangladesh               105971    1451   \n",
      "102          LKA                  Sri Lanka                 7119     140   \n",
      "103          IND                      India               432883    5606   \n",
      "104          PAK                   Pakistan                33157    3038   \n",
      "\n",
      "      2 meter   3 meter   4 meter   5 meter  1 meter.1  2 meter.1  3 meter.1  \\\n",
      "0         NaN       NaN       NaN       NaN        NaN        NaN        NaN   \n",
      "1    1,50,403  2,17,177  2,96,901  3,64,625       2.04       3.15       4.55   \n",
      "2         NaN       NaN       NaN       NaN        NaN        NaN        NaN   \n",
      "3      39,438    61,562    86,575  1,09,378       1.39       2.39       3.73   \n",
      "4         NaN       NaN       NaN       NaN        NaN        NaN        NaN   \n",
      "..        ...       ...       ...       ...        ...        ...        ...   \n",
      "100       NaN       NaN       NaN       NaN        NaN        NaN        NaN   \n",
      "101      2498      4759      8851     14715       1.37       2.36       4.49   \n",
      "102       273       469       749      1014       1.97       3.83       6.59   \n",
      "103      9872     14645     19513     23677       1.30       2.28       3.38   \n",
      "104      5692      8939     11726     14140       9.16      17.17      26.96   \n",
      "\n",
      "     4 meter.1  5 meter.1  \n",
      "0          NaN        NaN  \n",
      "1         6.22       7.64  \n",
      "2          NaN        NaN  \n",
      "3         5.24       6.62  \n",
      "4          NaN        NaN  \n",
      "..         ...        ...  \n",
      "100        NaN        NaN  \n",
      "101       8.35      13.89  \n",
      "102      10.52      14.24  \n",
      "103       4.51       5.47  \n",
      "104      35.37      42.65  \n",
      "\n",
      "[105 rows x 13 columns]\n"
     ]
    }
   ],
   "source": [
    "data.head()\n",
    "print(data)"
   ]
  },
  {
   "cell_type": "code",
   "execution_count": 28,
   "metadata": {},
   "outputs": [
    {
     "name": "stdout",
     "output_type": "stream",
     "text": [
      "   Country Name 1 meter 4 meter\n",
      "1       Bahamas     898    3251\n",
      "2   El Salvador       8      12\n",
      "3       Jamaica      77     138\n",
      "4        Brazil    7370   35450\n",
      "5       Uruguay     691    1354\n",
      "6        Belize      68     139\n",
      "7      Suriname     636    2408\n",
      "8    Costa Rica      63     258\n",
      "9        Mexico    5014   11739\n",
      "10  Puerto Rico       5       7\n"
     ]
    }
   ],
   "source": [
    "latin_land = data.loc[5:30,[\"Country Name\",\"1 meter\",\"4 meter\"]]\n",
    "latin_land = latin_land.sort_values(by=['1 meter'],ascending=False)\n",
    "latin_land.reset_index(drop=True,inplace=True)\n",
    "latin_land = latin_land.loc[1:10,:]\n",
    "print(latin_land)"
   ]
  },
  {
   "cell_type": "code",
   "execution_count": 40,
   "metadata": {},
   "outputs": [
    {
     "name": "stdout",
     "output_type": "stream",
     "text": [
      "            Country Name 1 meter 4 meter\n",
      "1                 Kuwait      78     194\n",
      "2                  Libya    5708    6101\n",
      "3   United Arab Emirates     441    1526\n",
      "4                Algeria    4043    4203\n",
      "5                Morocco     377     547\n",
      "6                  Yemen     209     530\n",
      "7                   Oman     206     433\n",
      "8                   Iran    1877    5928\n",
      "9                  Qatar     169     509\n",
      "10          Saudi Arabia    1671    3901\n"
     ]
    }
   ],
   "source": [
    "middle_land = data.loc[34:47,[\"Country Name\",\"1 meter\",\"4 meter\"]]\n",
    "middle_land = middle_land.sort_values(by=['1 meter'],ascending=False)\n",
    "middle_land.reset_index(drop=True,inplace=True)\n",
    "middle_land = middle_land.loc[1:10,:]\n",
    "print(middle_land)"
   ]
  },
  {
   "cell_type": "code",
   "execution_count": 30,
   "metadata": {},
   "outputs": [
    {
     "name": "stdout",
     "output_type": "stream",
     "text": [
      "        Country Name 1 meter 4 meter\n",
      "1        South Korea      64     204\n",
      "2           Cambodia     610    2945\n",
      "3        North Korea      43     333\n",
      "4        Philippines     398    1809\n",
      "5    Myanmar (Burma)    3817   18674\n",
      "6           Malaysia     353    1317\n",
      "7             Brunei       3       9\n",
      "8   Papua New Guinea     287     960\n",
      "9          Indonesia    2278   11368\n",
      "10      Taiwan China      20      46\n"
     ]
    }
   ],
   "source": [
    "east_asia_land = data.loc[84:97,[\"Country Name\",\"1 meter\",\"4 meter\"]]\n",
    "east_asia_land = east_asia_land.sort_values(by=['1 meter'],ascending=False)\n",
    "east_asia_land.reset_index(drop=True,inplace=True)\n",
    "east_asia_land = east_asia_land.loc[1:10,:]\n",
    "print(east_asia_land)"
   ]
  },
  {
   "cell_type": "code",
   "execution_count": 31,
   "metadata": {},
   "outputs": [
    {
     "name": "stdout",
     "output_type": "stream",
     "text": [
      "  Country Name 1 meter 4 meter\n",
      "0        India    5606   19513\n",
      "1     Pakistan    3038   11726\n",
      "2   Bangladesh    1451    8851\n",
      "3    Sri Lanka     140     749\n"
     ]
    }
   ],
   "source": [
    "south_asia_land = data.loc[101:105,[\"Country Name\",\"1 meter\",\"4 meter\"]]\n",
    "south_asia_land = south_asia_land.sort_values(by=['1 meter'],ascending=False)\n",
    "south_asia_land.reset_index(drop=True,inplace=True)\n",
    "south_asia_land = south_asia_land.loc[0:3,:]\n",
    "print(south_asia_land)"
   ]
  },
  {
   "cell_type": "markdown",
   "metadata": {},
   "source": [
    "<br>\n",
    "\n",
    "## Part 1: South America"
   ]
  },
  {
   "cell_type": "code",
   "execution_count": 32,
   "metadata": {},
   "outputs": [
    {
     "data": {
      "image/png": "[encoded data removed]",
      "text/plain": [
       "<Figure size 432x288 with 1 Axes>"
      ]
     },
     "metadata": {
      "needs_background": "light"
     },
     "output_type": "display_data"
    }
   ],
   "source": [
    "#South America - Land Lost\n",
    "x =np.arange(len(list(latin_land[\"Country Name\"] )))\n",
    "width=0.35\n",
    "\n",
    "\n",
    "fig, ax = plt.subplots()\n",
    "rects1 = ax.bar(x - width/2, latin_land[\"1 meter\"], width, label='1 Meter')\n",
    "rects2 = ax.bar(x + width/2, latin_land[\"4 meter\"], width, label='4 Meter')\n",
    "\n",
    "\n",
    "ax.set_ylabel('Sq. Km.')\n",
    "ax.set_title(\"Sq. Km. of Land lost vs rise in Sea level (South America)\")\n",
    "ax.set_xticks(x)\n",
    "\n",
    "ax.set_xticklabels(list(latin_land[\"Country Name\"] ))\n",
    "ax.legend()\n",
    "\n",
    "plt.xticks(rotation=90)\n",
    "plt.show()"
   ]
  },
  {
   "cell_type": "code",
   "execution_count": 36,
   "metadata": {},
   "outputs": [
    {
     "name": "stdout",
     "output_type": "stream",
     "text": [
      "1      898\n",
      "2        8\n",
      "3       77\n",
      "4     7370\n",
      "5      691\n",
      "6       68\n",
      "7      636\n",
      "8       63\n",
      "9     5014\n",
      "10       5\n",
      "Name: 1 meter, dtype: object\n",
      "1      3251\n",
      "2        12\n",
      "3       138\n",
      "4     35450\n",
      "5      1354\n",
      "6       139\n",
      "7      2408\n",
      "8       258\n",
      "9     11739\n",
      "10        7\n",
      "Name: 4 meter, dtype: object\n",
      "['Bahamas', 'El Salvador', 'Jamaica', 'Brazil', 'Uruguay', 'Belize', 'Suriname', 'Costa Rica', 'Mexico', 'Puerto Rico']\n"
     ]
    }
   ],
   "source": [
    "print(latin_land[\"1 meter\"])\n",
    "print(latin_land[\"4 meter\"])\n",
    "print(list(latin_land[\"Country Name\"] ))"
   ]
  },
  {
   "cell_type": "code",
   "execution_count": 37,
   "metadata": {},
   "outputs": [],
   "source": [
    "south_america = pd.DataFrame()\n",
    "south_america[\"Country\"] = list(latin_land[\"Country Name\"] )\n",
    "south_america[\"1 meter\"] = latin_land[\"1 meter\"]\n",
    "south_america[\"4 meters\"] = latin_land[\"4 meter\"]\n",
    "south_america.to_csv(\"south_america_sea.csv\")"
   ]
  },
  {
   "cell_type": "markdown",
   "metadata": {},
   "source": [
    "<br>\n",
    "\n",
    "# Part 2: Middle East"
   ]
  },
  {
   "cell_type": "code",
   "execution_count": 39,
   "metadata": {},
   "outputs": [
    {
     "data": {
      "image/png": "[encoded data removed]",
      "text/plain": [
       "<Figure size 432x288 with 1 Axes>"
      ]
     },
     "metadata": {
      "needs_background": "light"
     },
     "output_type": "display_data"
    }
   ],
   "source": [
    "#Middle East - Land Lost\n",
    "x =np.arange(len(list(middle_land[\"Country Name\"] )))\n",
    "width=0.35\n",
    "\n",
    "\n",
    "fig, ax = plt.subplots()\n",
    "rects1 = ax.bar(x - width/2, middle_land[\"1 meter\"], width, label='1 Meter')\n",
    "rects2 = ax.bar(x + width/2, middle_land[\"4 meter\"], width, label='4 Meter')\n",
    "\n",
    "\n",
    "ax.set_ylabel('Sq. Km.')\n",
    "ax.set_title(\"Sq. Km. of Land lost vs Rise in Sea level (Middle East)\")\n",
    "ax.set_xticks(x)\n",
    "\n",
    "ax.set_xticklabels(list(middle_land[\"Country Name\"] ))\n",
    "ax.legend()\n",
    "\n",
    "plt.xticks(rotation=90)\n",
    "plt.show()"
   ]
  },
  {
   "cell_type": "code",
   "execution_count": 41,
   "metadata": {},
   "outputs": [
    {
     "name": "stdout",
     "output_type": "stream",
     "text": [
      "1       78\n",
      "2     5708\n",
      "3      441\n",
      "4     4043\n",
      "5      377\n",
      "6      209\n",
      "7      206\n",
      "8     1877\n",
      "9      169\n",
      "10    1671\n",
      "Name: 1 meter, dtype: object\n",
      "1      194\n",
      "2     6101\n",
      "3     1526\n",
      "4     4203\n",
      "5      547\n",
      "6      530\n",
      "7      433\n",
      "8     5928\n",
      "9      509\n",
      "10    3901\n",
      "Name: 4 meter, dtype: object\n",
      "['Kuwait', 'Libya', 'United Arab Emirates', 'Algeria', 'Morocco', 'Yemen', 'Oman', 'Iran', 'Qatar', 'Saudi Arabia']\n"
     ]
    }
   ],
   "source": [
    "print(middle_land[\"1 meter\"])\n",
    "print(middle_land[\"4 meter\"])\n",
    "print(list(middle_land[\"Country Name\"] ))"
   ]
  },
  {
   "cell_type": "code",
   "execution_count": 48,
   "metadata": {},
   "outputs": [],
   "source": [
    "middle = pd.DataFrame()\n",
    "middle[\"Country\"] = list(middle_land[\"Country Name\"] )\n",
    "middle[\"1 meter\"] = list(middle_land[\"1 meter\"])\n",
    "middle[\"4 meters\"] = list(middle_land[\"4 meter\"])\n",
    "#print(middle)\n",
    "middle.to_csv(\"middle_land.csv\")"
   ]
  },
  {
   "cell_type": "markdown",
   "metadata": {},
   "source": [
    "<br>\n",
    "\n",
    "## Part 3: East Asia"
   ]
  },
  {
   "cell_type": "code",
   "execution_count": 11,
   "metadata": {},
   "outputs": [
    {
     "data": {
      "image/png": "[encoded data removed]",
      "text/plain": [
       "<Figure size 432x288 with 1 Axes>"
      ]
     },
     "metadata": {
      "needs_background": "light"
     },
     "output_type": "display_data"
    }
   ],
   "source": [
    "#East Asia - Land Lost\n",
    "x =np.arange(len(list(east_asia_land[\"Country Name\"] )))\n",
    "width=0.35\n",
    "\n",
    "\n",
    "fig, ax = plt.subplots()\n",
    "rects1 = ax.bar(x - width/2, east_asia_land[\"1 meter\"], width, label='1 Meter')\n",
    "rects2 = ax.bar(x + width/2, east_asia_land[\"4 meter\"], width, label='4 Meter')\n",
    "\n",
    "\n",
    "ax.set_ylabel('Sq. Km.')\n",
    "ax.set_title(\"Sq. Km. of Land lost vs Rise in Sea level (East Asia)\")\n",
    "ax.set_xticks(x)\n",
    "\n",
    "ax.set_xticklabels(list(east_asia_land[\"Country Name\"] ))\n",
    "ax.legend()\n",
    "\n",
    "plt.xticks(rotation=90)\n",
    "plt.show()"
   ]
  },
  {
   "cell_type": "code",
   "execution_count": 49,
   "metadata": {},
   "outputs": [],
   "source": [
    "east = pd.DataFrame()\n",
    "east[\"Country\"] = list(east_asia_land[\"Country Name\"] )\n",
    "east[\"1 meter\"] = list(east_asia_land[\"1 meter\"])\n",
    "east[\"4 meters\"] = list(east_asia_land[\"4 meter\"])\n",
    "#print(middle)\n",
    "east.to_csv(\"east_sea.csv\")"
   ]
  },
  {
   "cell_type": "markdown",
   "metadata": {},
   "source": [
    "<br>\n",
    "\n",
    "## Part 4: South Asia"
   ]
  },
  {
   "cell_type": "code",
   "execution_count": 12,
   "metadata": {},
   "outputs": [
    {
     "data": {
      "image/png": "[encoded data removed]",
      "text/plain": [
       "<Figure size 432x288 with 1 Axes>"
      ]
     },
     "metadata": {
      "needs_background": "light"
     },
     "output_type": "display_data"
    }
   ],
   "source": [
    "#South Asia - Land Lost\n",
    "x =np.arange(len(list(south_asia_land[\"Country Name\"] )))\n",
    "width=0.35\n",
    "\n",
    "\n",
    "fig, ax = plt.subplots()\n",
    "rects1 = ax.bar(x - width/2, south_asia_land[\"1 meter\"], width, label='1 Meter')\n",
    "rects2 = ax.bar(x + width/2, south_asia_land[\"4 meter\"], width, label='4 Meter')\n",
    "\n",
    "\n",
    "ax.set_ylabel('Sq. Km.')\n",
    "ax.set_title(\"Sq. Km. of Land lost vs Rise in Sea level (South Asia)\")\n",
    "ax.set_xticks(x)\n",
    "\n",
    "ax.set_xticklabels(list(south_asia_land[\"Country Name\"] ))\n",
    "ax.legend()\n",
    "\n",
    "plt.xticks(rotation=90)\n",
    "plt.show()"
   ]
  },
  {
   "cell_type": "code",
   "execution_count": 50,
   "metadata": {},
   "outputs": [],
   "source": [
    "south = pd.DataFrame()\n",
    "south[\"Country\"] = list(south_asia_land[\"Country Name\"] )\n",
    "south[\"1 meter\"] = list(south_asia_land[\"1 meter\"])\n",
    "south[\"4 meters\"] = list(south_asia_land[\"4 meter\"])\n",
    "#print(middle)\n",
    "south.to_csv(\"south_sea.csv\")"
   ]
  },
  {
   "cell_type": "code",
   "execution_count": 13,
   "metadata": {},
   "outputs": [
    {
     "name": "stdout",
     "output_type": "stream",
     "text": [
      "          Country Name  Total Population    1 meter    4 meter\n",
      "1         Bahamas, The          304000.0    13869.0    54722.0\n",
      "2               Belize          226000.0     5532.0    33676.0\n",
      "3               Brazil       170406000.0  1026618.0  3969403.0\n",
      "4                Chile        15211000.0    39615.0    71714.0\n",
      "5             Colombia        42105000.0   142888.0   522346.0\n",
      "6           Costa Rica         4024000.0     5152.0    23440.0\n",
      "7                 Cuba        11199000.0    77460.0   294205.0\n",
      "8   Dominican Republic         8373000.0    27631.0   133827.0\n",
      "9              Ecuador        12646000.0   137539.0   483380.0\n",
      "10         El Salvador         6278000.0     9920.0    36612.0\n"
     ]
    }
   ],
   "source": [
    "latin_pop = data.loc[110:134,[\"Country Name\",\"Country Area (Sq. km.)\",\"1 meter\",\"4 meter\"]]\n",
    "latin_pop.reset_index(drop=True,inplace=True)\n",
    "latin_pop.columns = [\"Country Name\",\"Total Population\",\"1 meter\",\"4 meter\"]\n",
    "latin_pop = latin_pop.loc[1:10,:]\n",
    "print(latin_pop)"
   ]
  },
  {
   "cell_type": "code",
   "execution_count": 14,
   "metadata": {},
   "outputs": [
    {
     "data": {
      "image/png": "[encoded data removed]",
      "text/plain": [
       "<Figure size 432x288 with 1 Axes>"
      ]
     },
     "metadata": {
      "needs_background": "light"
     },
     "output_type": "display_data"
    }
   ],
   "source": [
    "#South America - Population Affected\n",
    "\n",
    "latin_pop[\"1 meter Percentage\"] = (latin_pop[\"1 meter\"]/latin_pop[\"Total Population\"])*100\n",
    "latin_pop[\"4 meter Percentage\"] = (latin_pop[\"4 meter\"]/latin_pop[\"Total Population\"])*100\n",
    "x =np.arange(len(list(latin_pop[\"Country Name\"] )))\n",
    "width=0.35\n",
    "\n",
    "\n",
    "fig, ax = plt.subplots()\n",
    "rects1 = ax.bar(x - width/2, latin_pop[\"1 meter Percentage\"], width, label='1 Meter')\n",
    "rects2 = ax.bar(x + width/2, latin_pop[\"4 meter Percentage\"], width, label='4 Meter')\n",
    "\n",
    "\n",
    "ax.set_ylabel('Percentage of people affected')\n",
    "ax.set_title(\"Percentage of people affected vs Rise in Sea level (South America)\")\n",
    "ax.set_xticks(x)\n",
    "\n",
    "ax.set_xticklabels(list(latin_pop[\"Country Name\"] ))\n",
    "ax.legend()\n",
    "\n",
    "plt.xticks(rotation=90)\n",
    "plt.show()"
   ]
  },
  {
   "cell_type": "code",
   "execution_count": 15,
   "metadata": {},
   "outputs": [
    {
     "name": "stdout",
     "output_type": "stream",
     "text": [
      "            Country Name  Total Population    1 meter     4 meter\n",
      "1                  Egypt        67884000.0  6296292.0  12017374.0\n",
      "2                   Iran        70330000.0   240354.0    722502.0\n",
      "3                 Kuwait         1914000.0    11429.0     27600.0\n",
      "4                  Libya         5290000.0   156820.0    290829.0\n",
      "5                Morocco        29634000.0   380844.0    663212.0\n",
      "6                   Oman         2538000.0    27252.0     85497.0\n",
      "7                  Qatar          565000.0     9051.0     41576.0\n",
      "8           Saudi Arabia        20346000.0   403036.0   1102031.0\n",
      "9   United Arab Emirates         2606000.0   119581.0    255431.0\n",
      "10               Tunisia         9459000.0   462490.0    772427.0\n"
     ]
    }
   ],
   "source": [
    "middle_pop = data.loc[139:151,[\"Country Name\",\"Country Area (Sq. km.)\",\"1 meter\",\"4 meter\"]]\n",
    "middle_pop.reset_index(drop=True,inplace=True)\n",
    "middle_pop.columns = [\"Country Name\",\"Total Population\",\"1 meter\",\"4 meter\"]\n",
    "middle_pop = middle_pop.loc[1:10,:]\n",
    "print(middle_pop)"
   ]
  },
  {
   "cell_type": "code",
   "execution_count": 16,
   "metadata": {},
   "outputs": [
    {
     "data": {
      "image/png": "[encoded data removed]",
      "text/plain": [
       "<Figure size 432x288 with 1 Axes>"
      ]
     },
     "metadata": {
      "needs_background": "light"
     },
     "output_type": "display_data"
    }
   ],
   "source": [
    "#South America - Population Affected\n",
    "\n",
    "middle_pop[\"1 meter Percentage\"] = (middle_pop[\"1 meter\"]/middle_pop[\"Total Population\"])*100\n",
    "middle_pop[\"4 meter Percentage\"] = (middle_pop[\"4 meter\"]/middle_pop[\"Total Population\"])*100\n",
    "x =np.arange(len(list(middle_pop[\"Country Name\"] )))\n",
    "width=0.35\n",
    "\n",
    "\n",
    "fig, ax = plt.subplots()\n",
    "rects1 = ax.bar(x - width/2, middle_pop[\"1 meter Percentage\"], width, label='1 Meter')\n",
    "rects2 = ax.bar(x + width/2, middle_pop[\"4 meter Percentage\"], width, label='4 Meter')\n",
    "\n",
    "\n",
    "ax.set_ylabel('Percentage of people affected')\n",
    "ax.set_title(\"Percentage of people affected vs Rise in Sea level (Middle East)\")\n",
    "ax.set_xticks(x)\n",
    "\n",
    "ax.set_xticklabels(list(middle_pop[\"Country Name\"] ))\n",
    "ax.legend()\n",
    "\n",
    "plt.xticks(rotation=90)\n",
    "plt.show()"
   ]
  },
  {
   "cell_type": "code",
   "execution_count": 17,
   "metadata": {},
   "outputs": [
    {
     "name": "stdout",
     "output_type": "stream",
     "text": [
      "        Country Name  Total Population     1 meter     4 meter\n",
      "1    Myanmar (Burma)      4.774900e+07    591118.0   3964937.0\n",
      "2             Brunei      3.280000e+05      1584.0      4310.0\n",
      "3           Cambodia      1.310400e+07    130478.0    845556.0\n",
      "4              China      1.275133e+09  22699295.0  69240818.0\n",
      "5          Indonesia      2.120920e+08   2774692.0  12459289.0\n",
      "6        North Korea      2.226800e+07     86211.0    601995.0\n",
      "7        South Korea      4.674000e+07    228762.0    886687.0\n",
      "8           Malaysia      2.221800e+07     97384.0    934249.0\n",
      "9   Papua New Guinea      4.809000e+06      4963.0     13799.0\n",
      "10       Philippines      7.565300e+07    805406.0   4821392.0\n"
     ]
    }
   ],
   "source": [
    "east_asia_pop = data.loc[188:201,[\"Country Name\",\"Country Area (Sq. km.)\",\"1 meter\",\"4 meter\"]]\n",
    "east_asia_pop.reset_index(drop=True,inplace=True)\n",
    "east_asia_pop.columns = [\"Country Name\",\"Total Population\",\"1 meter\",\"4 meter\"]\n",
    "east_asia_pop = east_asia_pop.loc[1:10,:]\n",
    "print(east_asia_pop)"
   ]
  },
  {
   "cell_type": "code",
   "execution_count": 18,
   "metadata": {},
   "outputs": [
    {
     "data": {
      "image/png": "[encoded data removed]",
      "text/plain": [
       "<Figure size 432x288 with 1 Axes>"
      ]
     },
     "metadata": {
      "needs_background": "light"
     },
     "output_type": "display_data"
    }
   ],
   "source": [
    "#East Asia - Population Affected\n",
    "\n",
    "east_asia_pop[\"1 meter Percentage\"] = (east_asia_pop[\"1 meter\"]/east_asia_pop[\"Total Population\"])*100\n",
    "east_asia_pop[\"4 meter Percentage\"] = (east_asia_pop[\"4 meter\"]/east_asia_pop[\"Total Population\"])*100\n",
    "x =np.arange(len(list(east_asia_pop[\"Country Name\"] )))\n",
    "width=0.35\n",
    "\n",
    "\n",
    "fig, ax = plt.subplots()\n",
    "rects1 = ax.bar(x - width/2, east_asia_pop[\"1 meter Percentage\"], width, label='1 Meter')\n",
    "rects2 = ax.bar(x + width/2, east_asia_pop[\"4 meter Percentage\"], width, label='4 Meter')\n",
    "\n",
    "\n",
    "ax.set_ylabel('Percentage of people affected')\n",
    "ax.set_title(\"Percentage of people affected vs Rise in Sea level (East Asia)\")\n",
    "ax.set_xticks(x)\n",
    "\n",
    "ax.set_xticklabels(list(east_asia_pop[\"Country Name\"] ))\n",
    "ax.legend()\n",
    "\n",
    "plt.xticks(rotation=90)\n",
    "plt.show()"
   ]
  },
  {
   "cell_type": "code",
   "execution_count": 19,
   "metadata": {},
   "outputs": [
    {
     "name": "stdout",
     "output_type": "stream",
     "text": [
      "  Country Name  Total Population    1 meter     4 meter\n",
      "0   Bangladesh      1.374390e+08  1526826.0  10183882.0\n",
      "1    Sri Lanka      1.892400e+07   126368.0    679015.0\n",
      "2        India      1.008937e+09  4446570.0  12145257.0\n",
      "3     Pakistan      1.412560e+08   301960.0   1094385.0\n"
     ]
    }
   ],
   "source": [
    "south_asia_pop = data.loc[206:209,[\"Country Name\",\"Country Area (Sq. km.)\",\"1 meter\",\"4 meter\"]]\n",
    "south_asia_pop.reset_index(drop=True,inplace=True)\n",
    "south_asia_pop.columns = [\"Country Name\",\"Total Population\",\"1 meter\",\"4 meter\"]\n",
    "south_asia_pop = south_asia_pop.loc[:,:]\n",
    "print(south_asia_pop)"
   ]
  },
  {
   "cell_type": "code",
   "execution_count": 20,
   "metadata": {},
   "outputs": [
    {
     "data": {
      "image/png": "[encoded data removed]",
      "text/plain": [
       "<Figure size 432x288 with 1 Axes>"
      ]
     },
     "metadata": {
      "needs_background": "light"
     },
     "output_type": "display_data"
    }
   ],
   "source": [
    "#South Asia - Population Affected\n",
    "\n",
    "south_asia_pop[\"1 meter Percentage\"] = (south_asia_pop[\"1 meter\"]/south_asia_pop[\"Total Population\"])*100\n",
    "south_asia_pop[\"4 meter Percentage\"] = (south_asia_pop[\"4 meter\"]/south_asia_pop[\"Total Population\"])*100\n",
    "x =np.arange(len(list(south_asia_pop[\"Country Name\"] )))\n",
    "width=0.35\n",
    "\n",
    "\n",
    "fig, ax = plt.subplots()\n",
    "rects1 = ax.bar(x - width/2, south_asia_pop[\"1 meter Percentage\"], width, label='1 Meter')\n",
    "rects2 = ax.bar(x + width/2, south_asia_pop[\"4 meter Percentage\"], width, label='4 Meter')\n",
    "\n",
    "\n",
    "ax.set_ylabel('Percentage of people affected')\n",
    "ax.set_title(\"Percentage of people affected vs Rise in Sea level (South Asia)\")\n",
    "ax.set_xticks(x)\n",
    "\n",
    "ax.set_xticklabels(list(south_asia_pop[\"Country Name\"] ))\n",
    "ax.legend()\n",
    "\n",
    "plt.xticks(rotation=90)\n",
    "plt.show()\n"
   ]
  },
  {
   "cell_type": "code",
   "execution_count": 21,
   "metadata": {},
   "outputs": [
    {
     "name": "stdout",
     "output_type": "stream",
     "text": [
      "          Country Name  Total GDP (Millions)   1 meter    4 meter  \\\n",
      "0            Argentina              439897.0  0.309618   1.839067   \n",
      "1              Bahamas                4962.0  4.735994  18.681983   \n",
      "2               Belize                1312.0  2.057927   7.926829   \n",
      "3               Brazil             1233633.0  0.578292   1.752790   \n",
      "4                Chile              135982.0  0.083099   0.221353   \n",
      "5             Colombia              296427.0  0.200387   1.046801   \n",
      "6           Costa Rica               38381.0  0.112035   0.388213   \n",
      "7                 Cuba               19200.0  0.447917   5.203125   \n",
      "8   Dominican Republic               57877.0  0.152047   1.257840   \n",
      "9              Ecuador               40046.0  2.659442   5.596065   \n",
      "10         El Salvador               32878.0  0.282864   0.754304   \n",
      "\n",
      "    1 Meter Loss (in Millions of Dollors)  \\\n",
      "0                                136200.0   \n",
      "1                                 23500.0   \n",
      "2                                  2700.0   \n",
      "3                                713400.0   \n",
      "4                                 11300.0   \n",
      "5                                 59400.0   \n",
      "6                                  4300.0   \n",
      "7                                  8600.0   \n",
      "8                                  8800.0   \n",
      "9                                106500.0   \n",
      "10                                 9300.0   \n",
      "\n",
      "    4 Meter Loss (in Millions of Dollors)  \n",
      "0                                809000.0  \n",
      "1                                 92700.0  \n",
      "2                                 10400.0  \n",
      "3                               2162300.0  \n",
      "4                                 30100.0  \n",
      "5                                310300.0  \n",
      "6                                 14900.0  \n",
      "7                                 99900.0  \n",
      "8                                 72800.0  \n",
      "9                                224100.0  \n",
      "10                                24800.0  \n"
     ]
    }
   ],
   "source": [
    "latin_gdp = data.loc[215:239,[\"Country Name\",\"Country Area (Sq. km.)\",\"1 meter.1\",\"4 meter.1\"]]\n",
    "latin_gdp.reset_index(drop=True,inplace=True)\n",
    "latin_gdp.columns = [\"Country Name\",\"Total GDP (Millions)\",\"1 meter\",\"4 meter\"]\n",
    "latin_gdp = latin_gdp.loc[0:10,:]\n",
    "latin_gdp[\"1 Meter Loss (in Millions of Dollors)\"] = latin_gdp[\"1 meter\"] * latin_gdp[\"Total GDP (Millions)\"]\n",
    "latin_gdp[\"4 Meter Loss (in Millions of Dollors)\"] = latin_gdp[\"4 meter\"] * latin_gdp[\"Total GDP (Millions)\"]\n",
    "print(latin_gdp)"
   ]
  },
  {
   "cell_type": "code",
   "execution_count": 22,
   "metadata": {},
   "outputs": [
    {
     "data": {
      "image/png": "[encoded data removed]",
      "text/plain": [
       "<Figure size 432x288 with 1 Axes>"
      ]
     },
     "metadata": {
      "needs_background": "light"
     },
     "output_type": "display_data"
    }
   ],
   "source": [
    "#South America - GDP Loss\n",
    "\n",
    "x =np.arange(len(list(latin_gdp[\"Country Name\"] )))\n",
    "width=0.35\n",
    "\n",
    "\n",
    "fig, ax = plt.subplots()\n",
    "rects1 = ax.bar(x - width/2, latin_gdp[\"1 Meter Loss (in Millions of Dollors)\"], width, label='1 Meter')\n",
    "rects2 = ax.bar(x + width/2, latin_gdp[\"4 Meter Loss (in Millions of Dollors)\"], width, label='4 Meter')\n",
    "\n",
    "\n",
    "ax.set_ylabel('Millions of Dollars')\n",
    "ax.set_title(\"GDP Loss in Millions of Dollars (South America)\")\n",
    "ax.set_xticks(x)\n",
    "\n",
    "ax.set_xticklabels(list(latin_gdp[\"Country Name\"] ))\n",
    "ax.legend()\n",
    "\n",
    "plt.xticks(rotation=90)\n",
    "plt.show()\n"
   ]
  },
  {
   "cell_type": "code",
   "execution_count": 23,
   "metadata": {},
   "outputs": [
    {
     "name": "stdout",
     "output_type": "stream",
     "text": [
      "          Country Name  Total GDP (Millions)   1 meter    4 meter  \\\n",
      "0            Argentina              439897.0  0.309618   1.839067   \n",
      "1              Bahamas                4962.0  4.735994  18.681983   \n",
      "2               Belize                1312.0  2.057927   7.926829   \n",
      "3               Brazil             1233633.0  0.578292   1.752790   \n",
      "4                Chile              135982.0  0.083099   0.221353   \n",
      "5             Colombia              296427.0  0.200387   1.046801   \n",
      "6           Costa Rica               38381.0  0.112035   0.388213   \n",
      "7                 Cuba               19200.0  0.447917   5.203125   \n",
      "8   Dominican Republic               57877.0  0.152047   1.257840   \n",
      "9              Ecuador               40046.0  2.659442   5.596065   \n",
      "10         El Salvador               32878.0  0.282864   0.754304   \n",
      "\n",
      "    1 Meter Loss (in Millions of Dollors)  \\\n",
      "0                                136200.0   \n",
      "1                                 23500.0   \n",
      "2                                  2700.0   \n",
      "3                                713400.0   \n",
      "4                                 11300.0   \n",
      "5                                 59400.0   \n",
      "6                                  4300.0   \n",
      "7                                  8600.0   \n",
      "8                                  8800.0   \n",
      "9                                106500.0   \n",
      "10                                 9300.0   \n",
      "\n",
      "    4 Meter Loss (in Millions of Dollors)  \n",
      "0                                809000.0  \n",
      "1                                 92700.0  \n",
      "2                                 10400.0  \n",
      "3                               2162300.0  \n",
      "4                                 30100.0  \n",
      "5                                310300.0  \n",
      "6                                 14900.0  \n",
      "7                                 99900.0  \n",
      "8                                 72800.0  \n",
      "9                                224100.0  \n",
      "10                                24800.0  \n"
     ]
    }
   ],
   "source": [
    "middle_gdp = data.loc[215:239,[\"Country Name\",\"Country Area (Sq. km.)\",\"1 meter.1\",\"4 meter.1\"]]\n",
    "middle_gdp.reset_index(drop=True,inplace=True)\n",
    "middle_gdp.columns = [\"Country Name\",\"Total GDP (Millions)\",\"1 meter\",\"4 meter\"]\n",
    "middle_gdp = middle_gdp.loc[0:10,:]\n",
    "middle_gdp[\"1 Meter Loss (in Millions of Dollors)\"] = middle_gdp[\"1 meter\"] * middle_gdp[\"Total GDP (Millions)\"]\n",
    "middle_gdp[\"4 Meter Loss (in Millions of Dollors)\"] = middle_gdp[\"4 meter\"] * middle_gdp[\"Total GDP (Millions)\"]\n",
    "print(middle_gdp)"
   ]
  },
  {
   "cell_type": "code",
   "execution_count": 25,
   "metadata": {},
   "outputs": [
    {
     "data": {
      "image/png": "[encoded data removed]",
      "text/plain": [
       "<Figure size 432x288 with 1 Axes>"
      ]
     },
     "metadata": {
      "needs_background": "light"
     },
     "output_type": "display_data"
    }
   ],
   "source": [
    "#Middle East - GDP Loss\n",
    "\n",
    "x =np.arange(len(list(middle_gdp[\"Country Name\"] )))\n",
    "width=0.35\n",
    "\n",
    "\n",
    "fig, ax = plt.subplots()\n",
    "rects1 = ax.bar(x - width/2, middle_gdp[\"1 Meter Loss (in Millions of Dollors)\"], width, label='1 Meter')\n",
    "rects2 = ax.bar(x + width/2, middle_gdp[\"4 Meter Loss (in Millions of Dollors)\"], width, label='4 Meter')\n",
    "\n",
    "\n",
    "ax.set_ylabel('Millions of Dollars (10^6)')\n",
    "ax.set_title(\"GDP Loss in Millions of Dollars (middle East)\")\n",
    "ax.set_xticks(x)\n",
    "\n",
    "ax.set_xticklabels(list(middle_gdp[\"Country Name\"] ))\n",
    "ax.legend()\n",
    "\n",
    "plt.xticks(rotation=90)\n",
    "plt.show()\n"
   ]
  },
  {
   "cell_type": "code",
   "execution_count": 29,
   "metadata": {},
   "outputs": [
    {
     "name": "stdout",
     "output_type": "stream",
     "text": [
      "        Country Name  Total GDP (Millions)   1 meter    4 meter  \\\n",
      "0    Myanmar (Burma)               63700.0  0.962323   7.161695   \n",
      "1             Brunei                5900.0  0.000000   0.101695   \n",
      "2           Cambodia               21106.0  1.056572   7.708708   \n",
      "3              China             4724163.0  2.400214   8.251938   \n",
      "4          Indonesia              613299.0  1.884562   7.055449   \n",
      "5        North Korea               22000.0  0.100000   0.795455   \n",
      "6        South Korea              691772.0  0.212209   0.895960   \n",
      "7           Malaysia              211738.0  0.550208   3.474105   \n",
      "8   Papua New Guinea               13927.0  0.057442   0.208229   \n",
      "9        Philippines              290338.0  0.621689   3.390875   \n",
      "10          Thailand              378476.0  1.419377  16.164565   \n",
      "\n",
      "    1 Meter Loss (in Millions of Dollors)  \\\n",
      "0                                 61300.0   \n",
      "1                                     0.0   \n",
      "2                                 22300.0   \n",
      "3                              11339000.0   \n",
      "4                               1155800.0   \n",
      "5                                  2200.0   \n",
      "6                                146800.0   \n",
      "7                                116500.0   \n",
      "8                                   800.0   \n",
      "9                                180500.0   \n",
      "10                               537200.0   \n",
      "\n",
      "    4 Meter Loss (in Millions of Dollors)  \n",
      "0                                456200.0  \n",
      "1                                   600.0  \n",
      "2                                162700.0  \n",
      "3                              38983500.0  \n",
      "4                               4327100.0  \n",
      "5                                 17500.0  \n",
      "6                                619800.0  \n",
      "7                                735600.0  \n",
      "8                                  2900.0  \n",
      "9                                984500.0  \n",
      "10                              6117900.0  \n"
     ]
    }
   ],
   "source": [
    "east_asia_gdp = data.loc[294:306,[\"Country Name\",\"Country Area (Sq. km.)\",\"1 meter.1\",\"4 meter.1\"]]\n",
    "east_asia_gdp.reset_index(drop=True,inplace=True)\n",
    "east_asia_gdp.columns = [\"Country Name\",\"Total GDP (Millions)\",\"1 meter\",\"4 meter\"]\n",
    "east_asia_gdp = east_asia_gdp.loc[0:10,:]\n",
    "east_asia_gdp[\"1 Meter Loss (in Millions of Dollors)\"] = east_asia_gdp[\"1 meter\"] * east_asia_gdp[\"Total GDP (Millions)\"]\n",
    "east_asia_gdp[\"4 Meter Loss (in Millions of Dollors)\"] = east_asia_gdp[\"4 meter\"] * east_asia_gdp[\"Total GDP (Millions)\"]\n",
    "print(east_asia_gdp)"
   ]
  },
  {
   "cell_type": "code",
   "execution_count": 30,
   "metadata": {},
   "outputs": [
    {
     "data": {
      "image/png": "[encoded data removed]",
      "text/plain": [
       "<Figure size 432x288 with 1 Axes>"
      ]
     },
     "metadata": {
      "needs_background": "light"
     },
     "output_type": "display_data"
    }
   ],
   "source": [
    "#East Asia - GDP Loss\n",
    "\n",
    "x =np.arange(len(list(east_asia_gdp[\"Country Name\"] )))\n",
    "width=0.35\n",
    "\n",
    "\n",
    "fig, ax = plt.subplots()\n",
    "rects1 = ax.bar(x - width/2, east_asia_gdp[\"1 Meter Loss (in Millions of Dollors)\"], width, label='1 Meter')\n",
    "rects2 = ax.bar(x + width/2, east_asia_gdp[\"4 Meter Loss (in Millions of Dollors)\"], width, label='4 Meter')\n",
    "\n",
    "\n",
    "ax.set_ylabel('Millions of Dollars (10^6)')\n",
    "ax.set_title(\"GDP Loss in Millions of Dollars (East Asia)\")\n",
    "ax.set_xticks(x)\n",
    "\n",
    "ax.set_xticklabels(list(east_asia_gdp[\"Country Name\"] ))\n",
    "ax.legend()\n",
    "\n",
    "plt.xticks(rotation=90)\n",
    "plt.show()\n"
   ]
  },
  {
   "cell_type": "code",
   "execution_count": 32,
   "metadata": {},
   "outputs": [
    {
     "name": "stdout",
     "output_type": "stream",
     "text": [
      "  Country Name  Total GDP (Millions)   1 meter   4 meter  \\\n",
      "0   Bangladesh              202087.0  0.938210  7.154344   \n",
      "1    Sri Lanka               62726.0  0.452763  2.754839   \n",
      "2        India             2772730.0  0.585091  2.073155   \n",
      "3     Pakistan              258024.0  0.096890  0.463523   \n",
      "\n",
      "   1 Meter Loss (in Millions of Dollors)  \\\n",
      "0                               189600.0   \n",
      "1                                28400.0   \n",
      "2                              1622300.0   \n",
      "3                                25000.0   \n",
      "\n",
      "   4 Meter Loss (in Millions of Dollors)  \n",
      "0                              1445800.0  \n",
      "1                               172800.0  \n",
      "2                              5748300.0  \n",
      "3                               119600.0  \n"
     ]
    }
   ],
   "source": [
    "south_asia_gdp = data.loc[311:314,[\"Country Name\",\"Country Area (Sq. km.)\",\"1 meter.1\",\"4 meter.1\"]]\n",
    "south_asia_gdp.reset_index(drop=True,inplace=True)\n",
    "south_asia_gdp.columns = [\"Country Name\",\"Total GDP (Millions)\",\"1 meter\",\"4 meter\"]\n",
    "south_asia_gdp = south_asia_gdp.loc[0:10,:]\n",
    "south_asia_gdp[\"1 Meter Loss (in Millions of Dollors)\"] = south_asia_gdp[\"1 meter\"] * south_asia_gdp[\"Total GDP (Millions)\"]\n",
    "south_asia_gdp[\"4 Meter Loss (in Millions of Dollors)\"] = south_asia_gdp[\"4 meter\"] * south_asia_gdp[\"Total GDP (Millions)\"]\n",
    "print(south_asia_gdp)"
   ]
  },
  {
   "cell_type": "code",
   "execution_count": 33,
   "metadata": {},
   "outputs": [
    {
     "data": {
      "image/png": "[encoded data removed]",
      "text/plain": [
       "<Figure size 432x288 with 1 Axes>"
      ]
     },
     "metadata": {
      "needs_background": "light"
     },
     "output_type": "display_data"
    }
   ],
   "source": [
    "#South Asia - GDP Loss\n",
    "\n",
    "x =np.arange(len(list(south_asia_gdp[\"Country Name\"] )))\n",
    "width=0.35\n",
    "\n",
    "\n",
    "fig, ax = plt.subplots()\n",
    "rects1 = ax.bar(x - width/2, south_asia_gdp[\"1 Meter Loss (in Millions of Dollors)\"], width, label='1 Meter')\n",
    "rects2 = ax.bar(x + width/2, south_asia_gdp[\"4 Meter Loss (in Millions of Dollors)\"], width, label='4 Meter')\n",
    "\n",
    "\n",
    "ax.set_ylabel('Millions of Dollars (10^6)')\n",
    "ax.set_title(\"GDP Loss in Millions of Dollars (South Asia)\")\n",
    "ax.set_xticks(x)\n",
    "\n",
    "ax.set_xticklabels(list(south_asia_gdp[\"Country Name\"] ))\n",
    "ax.legend()\n",
    "\n",
    "plt.xticks(rotation=90)\n",
    "plt.show()\n"
   ]
  }
 ],
 "metadata": {
  "kernelspec": {
   "display_name": "gputen",
   "language": "python",
   "name": "gputen"
  },
  "language_info": {
   "codemirror_mode": {
    "name": "ipython",
    "version": 3
   },
   "file_extension": ".py",
   "mimetype": "text/x-python",
   "name": "python",
   "nbconvert_exporter": "python",
   "pygments_lexer": "ipython3",
   "version": "3.6.10"
  }
 },
 "nbformat": 4,
 "nbformat_minor": 4
}
